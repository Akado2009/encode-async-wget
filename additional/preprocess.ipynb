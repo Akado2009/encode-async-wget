{
 "cells": [
  {
   "cell_type": "code",
   "execution_count": 1,
   "metadata": {},
   "outputs": [],
   "source": [
    "import pandas as pd"
   ]
  },
  {
   "cell_type": "code",
   "execution_count": 24,
   "metadata": {},
   "outputs": [],
   "source": [
    "df = pd.read_csv(\"table.tab\", sep=\"\\t\")"
   ]
  },
  {
   "cell_type": "code",
   "execution_count": 6,
   "metadata": {},
   "outputs": [],
   "source": [
    "df = df[df[\"CellLine\"] != \".\"]"
   ]
  },
  {
   "cell_type": "code",
   "execution_count": 13,
   "metadata": {},
   "outputs": [],
   "source": [
    "cell_lines = df[\"CellLine\"].values.tolist()"
   ]
  },
  {
   "cell_type": "code",
   "execution_count": 15,
   "metadata": {},
   "outputs": [],
   "source": [
    "cell_lines = list(set(cell_lines))"
   ]
  },
  {
   "cell_type": "code",
   "execution_count": 41,
   "metadata": {},
   "outputs": [],
   "source": [
    "existed = open(\"exist.txt\", \"r\")\n",
    "\n",
    "existence_dict = {}\n",
    "for line in existed:\n",
    "    existence_dict[line.split(\".\")[0]] = True"
   ]
  },
  {
   "cell_type": "code",
   "execution_count": 48,
   "metadata": {},
   "outputs": [],
   "source": [
    "confounder_map = {}\n",
    "TRACK_COUNT = 3\n",
    "overall_count = 0"
   ]
  },
  {
   "cell_type": "code",
   "execution_count": 49,
   "metadata": {},
   "outputs": [],
   "source": [
    "for cl in cell_lines:\n",
    "    filtered_df = df[df[\"CellLine\"] == cl]\n",
    "    \n",
    "    cl_count = 0\n",
    "    finish = False\n",
    "    control_2d_list = filtered_df[\"Controls\"].values.tolist()\n",
    "    controls = []\n",
    "    for control_list in control_2d_list:\n",
    "        if pd.notna(control_list):\n",
    "            new_list = list(map(lambda x: x.strip(), control_list.split(\",\")))\n",
    "            for file in new_list:\n",
    "                if file not in controls:\n",
    "                    basename = file.split(\"/\")[2]\n",
    "                    if existence_dict.get(basename, None) is not None:\n",
    "                        controls.append(file)\n",
    "                        cl_count += 1\n",
    "                if cl_count >= TRACK_COUNT:\n",
    "                    finish = True\n",
    "                    break\n",
    "        if finish:\n",
    "            break\n",
    "    confounder_map[cl] = controls\n",
    "    overall_count += len(controls)"
   ]
  },
  {
   "cell_type": "code",
   "execution_count": 50,
   "metadata": {},
   "outputs": [
    {
     "data": {
      "text/plain": [
       "102"
      ]
     },
     "execution_count": 50,
     "metadata": {},
     "output_type": "execute_result"
    }
   ],
   "source": [
    "overall_count"
   ]
  },
  {
   "cell_type": "code",
   "execution_count": 51,
   "metadata": {},
   "outputs": [],
   "source": [
    "all_names = []\n",
    "for key, value in confounder_map.items(): \n",
    "    for el in value:\n",
    "        all_names.append(el)"
   ]
  },
  {
   "cell_type": "code",
   "execution_count": 52,
   "metadata": {},
   "outputs": [],
   "source": [
    "out_file = open(\"result.txt\", \"w\")\n",
    "out_file.write(\"\\n\".join(all_names))\n",
    "out_file.close()"
   ]
  },
  {
   "cell_type": "code",
   "execution_count": null,
   "metadata": {},
   "outputs": [],
   "source": []
  }
 ],
 "metadata": {
  "kernelspec": {
   "display_name": "newenv",
   "language": "python",
   "name": "newenv"
  },
  "language_info": {
   "codemirror_mode": {
    "name": "ipython",
    "version": 3
   },
   "file_extension": ".py",
   "mimetype": "text/x-python",
   "name": "python",
   "nbconvert_exporter": "python",
   "pygments_lexer": "ipython3",
   "version": "3.7.4"
  }
 },
 "nbformat": 4,
 "nbformat_minor": 2
}
