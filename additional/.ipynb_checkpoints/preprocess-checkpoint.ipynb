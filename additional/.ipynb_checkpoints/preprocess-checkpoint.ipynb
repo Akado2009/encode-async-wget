{
 "cells": [
  {
   "cell_type": "code",
   "execution_count": 1,
   "metadata": {},
   "outputs": [],
   "source": [
    "import pandas as pd\n",
    "import os"
   ]
  },
  {
   "cell_type": "code",
   "execution_count": 2,
   "metadata": {},
   "outputs": [],
   "source": [
    "df = pd.read_csv(\"table.tab\", sep=\"\\t\")"
   ]
  },
  {
   "cell_type": "code",
   "execution_count": 3,
   "metadata": {},
   "outputs": [],
   "source": [
    "df = df[df[\"CellLine\"] != \".\"]"
   ]
  },
  {
   "cell_type": "code",
   "execution_count": 4,
   "metadata": {},
   "outputs": [],
   "source": [
    "cell_lines = df[\"CellLine\"].values.tolist()"
   ]
  },
  {
   "cell_type": "code",
   "execution_count": 5,
   "metadata": {},
   "outputs": [],
   "source": [
    "cell_lines = list(set(cell_lines))"
   ]
  },
  {
   "cell_type": "code",
   "execution_count": 6,
   "metadata": {},
   "outputs": [],
   "source": [
    "existed = open(\"exist.txt\", \"r\")\n",
    "\n",
    "existence_dict = {}\n",
    "for line in existed:\n",
    "    existence_dict[line.split(\".\")[0]] = True"
   ]
  },
  {
   "cell_type": "code",
   "execution_count": 7,
   "metadata": {},
   "outputs": [],
   "source": [
    "confounder_map = {}\n",
    "TRACK_COUNT = 3\n",
    "overall_count = 0"
   ]
  },
  {
   "cell_type": "code",
   "execution_count": 8,
   "metadata": {},
   "outputs": [],
   "source": [
    "for cl in cell_lines:\n",
    "    filtered_df = df[df[\"CellLine\"] == cl]\n",
    "    \n",
    "    cl_count = 0\n",
    "    finish = False\n",
    "    control_2d_list = filtered_df[\"Controls\"].values.tolist()\n",
    "    controls = []\n",
    "    for control_list in control_2d_list:\n",
    "        if pd.notna(control_list):\n",
    "            new_list = list(map(lambda x: x.strip(), control_list.split(\",\")))\n",
    "            for file in new_list:\n",
    "                if file not in controls:\n",
    "                    basename = file.split(\"/\")[2]\n",
    "                    if existence_dict.get(basename, None) is not None:\n",
    "                        controls.append(file)\n",
    "                        cl_count += 1\n",
    "                if cl_count >= TRACK_COUNT:\n",
    "                    finish = True\n",
    "                    break\n",
    "        if finish:\n",
    "            break\n",
    "    confounder_map[cl] = controls\n",
    "    overall_count += len(controls)"
   ]
  },
  {
   "cell_type": "code",
   "execution_count": 9,
   "metadata": {},
   "outputs": [
    {
     "data": {
      "text/plain": [
       "102"
      ]
     },
     "execution_count": 9,
     "metadata": {},
     "output_type": "execute_result"
    }
   ],
   "source": [
    "overall_count"
   ]
  },
  {
   "cell_type": "code",
   "execution_count": 10,
   "metadata": {},
   "outputs": [],
   "source": [
    "all_names = []\n",
    "for key, value in confounder_map.items(): \n",
    "    for el in value:\n",
    "        all_names.append(el)"
   ]
  },
  {
   "cell_type": "code",
   "execution_count": 11,
   "metadata": {},
   "outputs": [],
   "source": [
    "out_file = open(\"result.txt\", \"w\")\n",
    "out_file.write(\"\\n\".join(all_names))\n",
    "out_file.close()"
   ]
  },
  {
   "cell_type": "code",
   "execution_count": 12,
   "metadata": {},
   "outputs": [
    {
     "data": {
      "text/plain": [
       "{'SK-N-MC': ['/files/ENCFF001HXE/',\n",
       "  '/files/ENCFF713HLH/',\n",
       "  '/files/ENCFF854RRT/'],\n",
       " 'HEK293': ['/files/ENCFF001HMT/',\n",
       "  '/files/ENCFF854RYT/',\n",
       "  '/files/ENCFF846BEG/'],\n",
       " 'NT2/D1': ['/files/ENCFF000VIJ/',\n",
       "  '/files/ENCFF000ZMZ/',\n",
       "  '/files/ENCFF585ORN/'],\n",
       " 'GM12875': ['/files/ENCFF001HHI/',\n",
       "  '/files/ENCFF335FVF/',\n",
       "  '/files/ENCFF490MFW/'],\n",
       " 'H1': ['/files/ENCFF000AVF/', '/files/ENCFF000AVG/', '/files/ENCFF400SCD/'],\n",
       " 'Raji': ['/files/ENCFF000ZPD/', '/files/ENCFF971KPK/', '/files/ENCFF275RMZ/'],\n",
       " 'A549': ['/files/ENCFF000AHA/', '/files/ENCFF000AHB/', '/files/ENCFF227MOQ/'],\n",
       " 'GM12865': ['/files/ENCFF001HCU/',\n",
       "  '/files/ENCFF075MWT/',\n",
       "  '/files/ENCFF801BOV/'],\n",
       " 'Jurkat clone E61': [],\n",
       " 'GM12878': ['/files/ENCFF000AQZ/',\n",
       "  '/files/ENCFF000ARA/',\n",
       "  '/files/ENCFF231IAK/'],\n",
       " 'NB4': ['/files/ENCFF001HUO/', '/files/ENCFF504UBQ/', '/files/ENCFF312FHK/'],\n",
       " 'HCT116': ['/files/ENCFF001HLT/',\n",
       "  '/files/ENCFF594FEE/',\n",
       "  '/files/ENCFF040CVQ/'],\n",
       " 'WI38': ['/files/ENCFF001HYV/', '/files/ENCFF036SIR/', '/files/ENCFF070KUR/'],\n",
       " 'LNCaP clone FGC': ['/files/ENCFF001HTQ/',\n",
       "  '/files/ENCFF234IPE/',\n",
       "  '/files/ENCFF805AGC/'],\n",
       " 'HepG2': ['/files/ENCFF255TUT/',\n",
       "  '/files/ENCFF274GMA/',\n",
       "  '/files/ENCFF122NRW/'],\n",
       " 'AG09319': ['/files/ENCFF001GXT/',\n",
       "  '/files/ENCFF942JSC/',\n",
       "  '/files/ENCFF073RIN/'],\n",
       " 'Panc1': ['/files/ENCFF000VJN/',\n",
       "  '/files/ENCFF843DLH/',\n",
       "  '/files/ENCFF025ODI/'],\n",
       " 'K562': ['/files/ENCFF000BVZ/', '/files/ENCFF117OYK/', '/files/ENCFF392XRJ/'],\n",
       " 'MCF-7': ['/files/ENCFF001HUB/',\n",
       "  '/files/ENCFF623WZZ/',\n",
       "  '/files/ENCFF320ZWB/'],\n",
       " 'DND-41': ['/files/ENCFF000ANS/',\n",
       "  '/files/ENCFF000ANU/',\n",
       "  '/files/ENCFF596NBD/'],\n",
       " 'SK-N-SH': ['/files/ENCFF001HXR/',\n",
       "  '/files/ENCFF476JOC/',\n",
       "  '/files/ENCFF968MUT/'],\n",
       " 'Caco-2': ['/files/ENCFF001HAF/',\n",
       "  '/files/ENCFF863KCT/',\n",
       "  '/files/ENCFF851MPE/'],\n",
       " 'HeLa-S3': ['/files/ENCFF000BAF/',\n",
       "  '/files/ENCFF000BAI/',\n",
       "  '/files/ENCFF954DWW/'],\n",
       " 'AG10803': ['/files/ENCFF001GYG/',\n",
       "  '/files/ENCFF258DWA/',\n",
       "  '/files/ENCFF085CHA/'],\n",
       " 'HFF-Myc': ['/files/ENCFF001HOO/',\n",
       "  '/files/ENCFF111JEG/',\n",
       "  '/files/ENCFF355KUJ/'],\n",
       " 'AG09309': ['/files/ENCFF001GXG/',\n",
       "  '/files/ENCFF525BCB/',\n",
       "  '/files/ENCFF098RZI/'],\n",
       " 'AG04450': ['/files/ENCFF001GWT/',\n",
       "  '/files/ENCFF602KDF/',\n",
       "  '/files/ENCFF732CPP/'],\n",
       " 'H7': ['/files/ENCFF001FEJ/', '/files/ENCFF837HRZ/', '/files/ENCFF043XTH/'],\n",
       " 'AG04449': ['/files/ENCFF001GWG/',\n",
       "  '/files/ENCFF430CVT/',\n",
       "  '/files/ENCFF353NNK/'],\n",
       " 'GM12868': [],\n",
       " 'BJ': ['/files/ENCFF001GZS/', '/files/ENCFF932RYQ/', '/files/ENCFF517WZK/'],\n",
       " 'WERI-Rb-1': ['/files/ENCFF001HYE/',\n",
       "  '/files/ENCFF185CQP/',\n",
       "  '/files/ENCFF497TEA/'],\n",
       " 'GM12864': ['/files/ENCFF001HBZ/',\n",
       "  '/files/ENCFF749RTG/',\n",
       "  '/files/ENCFF219TDW/'],\n",
       " 'GM12866': [],\n",
       " 'GM06990': ['/files/ENCFF001HAZ/',\n",
       "  '/files/ENCFF897RSN/',\n",
       "  '/files/ENCFF186FRO/'],\n",
       " 'BE2C': ['/files/ENCFF001GZG/', '/files/ENCFF345GLS/', '/files/ENCFF540GSY/'],\n",
       " 'HL-60': ['/files/ENCFF001HOW/',\n",
       "  '/files/ENCFF151YAO/',\n",
       "  '/files/ENCFF337ZUN/']}"
      ]
     },
     "execution_count": 12,
     "metadata": {},
     "output_type": "execute_result"
    }
   ],
   "source": [
    "confounder_map"
   ]
  },
  {
   "cell_type": "code",
   "execution_count": 13,
   "metadata": {},
   "outputs": [],
   "source": [
    "commands = []\n",
    "base_path = \"/mnt/scratch/shared/SG_KIRILL/control\"\n",
    "for key, value in confounder_map.items():\n",
    "    if len(value) > 0:\n",
    "        names = []\n",
    "        for el in value:\n",
    "            names.append(\"{}.bed\".format(os.path.join(base_path, el.split(\"/\")[2])))\n",
    "        command = \"Confounder confounder={}.wig chrom=human_chrom {}\".format(key.replace(\" \", \"_\"), \" \".join(names))\n",
    "        commands.append(command)\n",
    "out_file = open(\"commands.sh\", \"w\")\n",
    "out_file.write(\"#!/bin/bash\\n\")\n",
    "out_file.write(\"\\n\".join(commands))\n",
    "out_file.close()"
   ]
  },
  {
   "cell_type": "code",
   "execution_count": 14,
   "metadata": {},
   "outputs": [],
   "source": [
    "lines = []\n",
    "for key, value in confounder_map.items():\n",
    "    if len(value) > 0:\n",
    "        lines.append(key)"
   ]
  },
  {
   "cell_type": "code",
   "execution_count": 15,
   "metadata": {},
   "outputs": [],
   "source": [
    "df = df[df[\"CellLine\"].isin(lines)]"
   ]
  },
  {
   "cell_type": "code",
   "execution_count": 16,
   "metadata": {},
   "outputs": [],
   "source": [
    "df.to_csv(\"new_samples.tab\")"
   ]
  },
  {
   "cell_type": "code",
   "execution_count": 18,
   "metadata": {},
   "outputs": [],
   "source": [
    "projector_commands = []"
   ]
  },
  {
   "cell_type": "code",
   "execution_count": null,
   "metadata": {},
   "outputs": [],
   "source": []
  }
 ],
 "metadata": {
  "kernelspec": {
   "display_name": "additional_env",
   "language": "python",
   "name": "additional_env"
  },
  "language_info": {
   "codemirror_mode": {
    "name": "ipython",
    "version": 3
   },
   "file_extension": ".py",
   "mimetype": "text/x-python",
   "name": "python",
   "nbconvert_exporter": "python",
   "pygments_lexer": "ipython3",
   "version": "3.7.4"
  }
 },
 "nbformat": 4,
 "nbformat_minor": 2
}
